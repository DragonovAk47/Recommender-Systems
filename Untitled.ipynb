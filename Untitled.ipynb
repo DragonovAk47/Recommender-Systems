{
 "cells": [
  {
   "cell_type": "code",
   "execution_count": 1,
   "metadata": {},
   "outputs": [],
   "source": [
    "import pandas as pd \n",
    "import numpy as np\n",
    "import matplotlib as plt\n",
    "import seaborn as sns\n",
    "import scipy.io as scio\n",
    "\n",
    "import scipy.optimize as opt"
   ]
  },
  {
   "cell_type": "code",
   "execution_count": 2,
   "metadata": {},
   "outputs": [],
   "source": [
    "data  = pd.read_csv('ratings.csv')"
   ]
  },
  {
   "cell_type": "code",
   "execution_count": 3,
   "metadata": {},
   "outputs": [],
   "source": [
    "r = np.zeros([164979,671])"
   ]
  },
  {
   "cell_type": "code",
   "execution_count": 4,
   "metadata": {},
   "outputs": [],
   "source": [
    "ratings = np.zeros([164979,671])\n"
   ]
  },
  {
   "cell_type": "code",
   "execution_count": 5,
   "metadata": {},
   "outputs": [],
   "source": [
    "datas = np.array(data,dtype =int)"
   ]
  },
  {
   "cell_type": "code",
   "execution_count": 6,
   "metadata": {},
   "outputs": [
    {
     "data": {
      "text/plain": [
       "(100004, 4)"
      ]
     },
     "execution_count": 6,
     "metadata": {},
     "output_type": "execute_result"
    }
   ],
   "source": [
    "datas.shape"
   ]
  },
  {
   "cell_type": "code",
   "execution_count": 7,
   "metadata": {},
   "outputs": [],
   "source": [
    "for i in range(0,100004):\n",
    "    x = datas[i,1]\n",
    "    y = datas[i,0]\n",
    "    z = datas[i,2]\n",
    "    r[x-1,y-1]=1\n",
    "    ratings[x-1,y-1] = z\n",
    " "
   ]
  },
  {
   "cell_type": "code",
   "execution_count": 8,
   "metadata": {},
   "outputs": [
    {
     "data": {
      "text/plain": [
       "1.0"
      ]
     },
     "execution_count": 8,
     "metadata": {},
     "output_type": "execute_result"
    }
   ],
   "source": [
    "datas[0,:]\n",
    "r[30,0]"
   ]
  },
  {
   "cell_type": "code",
   "execution_count": 9,
   "metadata": {},
   "outputs": [],
   "source": [
    "features = 15\n",
    "movies,users = ratings.shape\n",
    "\n",
    "X  = np.random.randn(movies,features)\n",
    "theta = np.random.randn(users,features)\n",
    "lambd = 1.5"
   ]
  },
  {
   "cell_type": "code",
   "execution_count": 10,
   "metadata": {},
   "outputs": [],
   "source": [
    "def compute_cost(ratings,r,X,theta,lambd,movies,users,features):\n",
    "    predict = np.dot(X,theta.T)*r - ratings\n",
    "    cost = (np.sum(predict*predict)+ (lambd)*(np.sum(np.square(X)) + (lambd)*np.sum(np.square(theta))))/2000\n",
    "    theta_grad = np.dot(X.T,predict*r).T + (lambd)*theta\n",
    "    X_grad = np.dot(predict*r,theta)  +(lambd)* X\n",
    "    return cost,theta_grad,X_grad\n"
   ]
  },
  {
   "cell_type": "code",
   "execution_count": 11,
   "metadata": {},
   "outputs": [
    {
     "name": "stdout",
     "output_type": "stream",
     "text": [
      "2024.7781897618725\n"
     ]
    }
   ],
   "source": [
    "cost,theta_grad,X_grad = (compute_cost(ratings,r,X,theta,0.5,movies,users,features))\n",
    "print(cost)"
   ]
  },
  {
   "cell_type": "code",
   "execution_count": null,
   "metadata": {},
   "outputs": [],
   "source": [
    "def normalize_ratings(r,ratings,movies,users):\n",
    "    m  = movies\n",
    "    Ymean = np.zeros(m)\n",
    "    Ynorm = np.zeros(ratings.shape)\n",
    "    for i in range(m):\n",
    "        idx = np.where(r[i] == 1)\n",
    "        Ymean[i] = np.mean(ratings[i, idx])\n",
    "        Ynorm[i, idx] = ratings[i, idx] - Ymean[i]\n",
    "    return Ynorm,Ymean\n",
    "        "
   ]
  },
  {
   "cell_type": "code",
   "execution_count": null,
   "metadata": {},
   "outputs": [],
   "source": [
    "\n",
    "\n",
    "ratings,Ymean  = normalize_ratings(r,ratings,movies,users)\n"
   ]
  },
  {
   "cell_type": "code",
   "execution_count": 12,
   "metadata": {},
   "outputs": [],
   "source": [
    "from sklearn.linear_model import LinearRegression\n",
    "lambd = 0.5"
   ]
  },
  {
   "cell_type": "code",
   "execution_count": 13,
   "metadata": {},
   "outputs": [],
   "source": [
    "alpha = 0.001"
   ]
  },
  {
   "cell_type": "code",
   "execution_count": 15,
   "metadata": {},
   "outputs": [
    {
     "name": "stdout",
     "output_type": "stream",
     "text": [
      "637.8683842389761\n",
      "634.2219507627243\n",
      "641.5649921388438\n",
      "638.1986508899756\n",
      "644.3894752977264\n",
      "636.0499532799241\n",
      "637.797259445617\n",
      "627.604357820829\n",
      "628.406214920307\n",
      "621.5911910851382\n",
      "624.4336183327339\n",
      "620.7328292240303\n",
      "625.7086749149205\n",
      "622.709337248867\n",
      "628.5059095488332\n",
      "623.816715132451\n",
      "628.8558686693837\n",
      "622.293195559144\n",
      "626.8536131758264\n",
      "620.5583375592015\n",
      "626.1708464790287\n",
      "620.9778129902593\n",
      "627.8230336427434\n",
      "622.1774791231235\n",
      "628.6583631730067\n",
      "621.0357253210216\n",
      "625.9269353186187\n",
      "617.3741108448606\n",
      "621.4867509207089\n",
      "613.9489890743283\n",
      "618.4413737495815\n",
      "612.1418986162995\n",
      "617.1578110340562\n",
      "611.1877903098506\n",
      "616.2824774634106\n",
      "609.9959597215247\n",
      "614.9089818119681\n",
      "608.4523893282696\n",
      "613.4003897506472\n",
      "607.1934854687553\n",
      "612.4478837402958\n",
      "606.4496663326818\n",
      "611.8437543722633\n",
      "605.5793587266452\n",
      "610.6140305181724\n",
      "603.848519879449\n",
      "608.2683717328589\n",
      "601.381522804518\n",
      "605.4184998985918\n",
      "598.9327667719501\n",
      "602.9344907266507\n",
      "596.9709369428837\n",
      "601.059417896064\n",
      "595.3937763578048\n",
      "599.4974418545443\n",
      "593.9065083896097\n",
      "597.9592664158527\n",
      "592.4121713038923\n",
      "596.4561166226302\n",
      "591.0253806346211\n",
      "595.1331222565834\n",
      "589.8147336230024\n",
      "593.9700782745521\n",
      "588.65282265798\n",
      "592.7486342659582\n",
      "587.3403966934159\n",
      "591.2862269749811\n",
      "585.8208169846072\n",
      "589.6261330073232\n",
      "584.2224857498703\n",
      "587.967187262763\n",
      "582.7062709085401\n",
      "586.4551211683292\n",
      "581.321948048989\n",
      "585.0828072093768\n",
      "580.0113382434131\n",
      "583.7594654995637\n",
      "578.7056356283725\n",
      "582.4263834940598\n",
      "577.3922985486902\n",
      "581.0923154316465\n",
      "576.094953688856\n",
      "579.7797343924553\n",
      "574.8166325415848\n",
      "578.471148387131\n",
      "573.5238046061463\n",
      "577.1212368364302\n",
      "572.1831859593826\n",
      "575.7093718563694\n",
      "570.8003289286544\n",
      "574.2657939394343\n",
      "569.4163140199836\n",
      "572.8456352677144\n",
      "568.0717514153583\n",
      "571.4844975938644\n",
      "566.7782074281217\n",
      "570.1795553775136\n",
      "565.5198699440447\n",
      "568.904903461303\n",
      "564.2746889764422\n"
     ]
    }
   ],
   "source": [
    "for i in range(0,100):\n",
    "    cost,theta_grad,X_grad =compute_cost(ratings,r,X,theta,lambd,movies,users,features)\n",
    "    print(cost)\n",
    "    theta = theta - (alpha)*(theta_grad)\n",
    "    X = X - (alpha)*(X_grad)\n",
    "    "
   ]
  },
  {
   "cell_type": "code",
   "execution_count": 30,
   "metadata": {},
   "outputs": [
    {
     "name": "stdout",
     "output_type": "stream",
     "text": [
      "634.6611804053277\n"
     ]
    }
   ],
   "source": [
    "init_params = np.concatenate((X.flatten(), theta.flatten()))\n",
    "print(cost_func(init_params))"
   ]
  },
  {
   "cell_type": "code",
   "execution_count": 16,
   "metadata": {},
   "outputs": [],
   "source": [
    "prediction = np.dot(X,theta.T)"
   ]
  },
  {
   "cell_type": "code",
   "execution_count": 17,
   "metadata": {},
   "outputs": [
    {
     "data": {
      "text/plain": [
       "array([0, 3, 3, 4, 3, 1, 2, 3, 3, 2, 3, 2, 3, 3, 1, 5, 2, 3, 3, 2, 3, 3,\n",
       "       2, 3, 3, 2, 3, 3, 2, 3, 3, 3, 3, 3, 0, 3, 2, 2, 3, 2, 3, 3, 3, 4,\n",
       "       3, 2, 4, 3, 2, 2, 0, 2, 2, 2, 3, 3, 3, 4, 3, 3, 3, 2, 3, 1, 2, 2,\n",
       "       3, 3, 4, 4, 4, 2, 2, 3, 2, 3, 2, 3, 2, 3, 2, 4, 2, 2, 3, 2, 1, 2,\n",
       "       4, 3, 3, 3, 3, 3, 4, 1, 1, 3, 3, 3, 3, 3, 3, 3, 2, 3, 2, 3, 3, 3,\n",
       "       2, 3, 2, 2, 3, 1, 2, 3, 3, 2, 3, 2, 3, 2, 3, 3, 1, 3, 1, 2, 3, 4,\n",
       "       1, 2, 2, 3, 3, 1, 2, 3, 2, 1, 3, 3, 2, 4, 4, 3, 3, 2, 3, 2, 4, 4,\n",
       "       3, 3, 2, 5, 2, 2, 3, 4, 2, 2, 2, 2, 4, 3, 3, 2, 4, 3, 3, 3, 3, 2,\n",
       "       3, 2, 4, 3, 4, 3, 3, 3, 3, 1, 3, 4, 3, 3, 1, 3, 3, 3, 2, 4, 3, 3,\n",
       "       2, 2, 3, 3, 3, 2, 2, 3, 2, 2, 3, 3, 4, 2, 2, 3, 2, 3, 3, 3, 3, 3,\n",
       "       2, 2, 2, 4, 3, 1, 0, 3, 3, 3, 4, 3, 2, 3, 3, 3, 2, 3, 3, 3, 2, 3,\n",
       "       2, 2, 3, 3, 3, 3, 3, 3, 2, 3, 3, 3, 2, 3, 3, 2, 1, 2, 1, 2, 2, 2,\n",
       "       3, 4, 3, 3, 1, 3, 2, 2, 3, 2, 3, 4, 2, 1, 2, 4, 2, 2, 2, 2, 3, 2,\n",
       "       4, 3, 5, 2, 3, 3, 2, 3, 3, 1, 2, 4, 3, 4, 1, 3, 2, 2, 1, 3, 2, 2,\n",
       "       2, 0, 2, 2, 2, 2, 1, 2, 1, 2, 3, 2, 2, 2, 3, 2, 0, 2, 3, 2, 4, 2,\n",
       "       3, 1, 3, 3, 2, 1, 3, 3, 2, 3, 0, 3, 2, 3, 2, 2, 2, 2, 4, 3, 1, 3,\n",
       "       2, 3, 2, 0, 4, 2, 2, 3, 3, 3, 3, 0, 3, 4, 2, 2, 2, 3, 3, 2, 3, 3,\n",
       "       2, 2, 2, 2, 2, 3, 2, 2, 4, 3, 3, 3, 3, 3, 3, 3, 3, 3, 0, 3, 2, 3,\n",
       "       2, 2, 2, 3, 3, 3, 3, 3, 3, 3, 3, 2, 4, 3, 2, 2, 3, 2, 3, 3, 2, 2,\n",
       "       2, 3, 3, 3, 2, 1, 2, 2, 3, 3, 1, 3, 3, 4, 3, 2, 5, 1, 2, 1, 3, 2,\n",
       "       2, 3, 4, 4, 0, 2, 3, 2, 5, 3, 3, 2, 4, 4, 3, 2, 2, 2, 4, 2, 2, 3,\n",
       "       3, 4, 4, 3, 4, 2, 0, 3, 3, 3, 3, 2, 2, 3, 3, 2, 3, 3, 3, 4, 2, 2,\n",
       "       3, 3, 4, 4, 2, 2, 3, 1, 3, 2, 1, 3, 2, 0, 0, 2, 3, 3, 3, 0, 2, 2,\n",
       "       4, 2, 2, 2, 2, 3, 1, 3, 4, 3, 3, 3, 3, 3, 2, 2, 2, 3, 3, 2, 2, 2,\n",
       "       3, 4, 1, 2, 3, 3, 3, 3, 3, 3, 0, 2, 0, 2, 4, 3, 2, 3, 0, 3, 1, 3,\n",
       "       3, 1, 2, 3, 2, 5, 3, 3, 4, 3, 2, 3, 3, 1, 2, 2, 3, 3, 3, 1, 3, 3,\n",
       "       2, 2, 3, 3, 3, 1, 0, 2, 1, 3, 2, 3, 3, 3, 3, 3, 4, 3, 2, 3, 4, 3,\n",
       "       3, 3, 3, 3, 2, 3, 1, 3, 3, 1, 3, 4, 3, 3, 1, 2, 1, 3, 3, 2, 3, 2,\n",
       "       2, 4, 3, 2, 3, 3, 3, 2, 3, 3, 2, 2, 2, 2, 4, 3, 3, 5, 2, 2, 1, 2,\n",
       "       3, 3, 3, 2, 2, 3, 3, 4, 3, 3, 3, 4, 1, 4, 4, 3, 3, 4, 2, 3, 3, 2,\n",
       "       2, 3, 3, 3, 3, 3, 3, 1, 3, 3, 3])"
      ]
     },
     "execution_count": 17,
     "metadata": {},
     "output_type": "execute_result"
    }
   ],
   "source": [
    "prediction[0,:].astype(int)"
   ]
  },
  {
   "cell_type": "code",
   "execution_count": 18,
   "metadata": {},
   "outputs": [
    {
     "data": {
      "text/plain": [
       "array([0, 0, 0, 0, 0, 0, 3, 0, 4, 0, 0, 0, 5, 0, 2, 0, 0, 0, 3, 3, 0, 0,\n",
       "       3, 0, 0, 5, 0, 0, 0, 4, 0, 0, 0, 0, 0, 0, 4, 0, 0, 0, 0, 0, 4, 4,\n",
       "       0, 0, 5, 4, 0, 0, 0, 0, 0, 0, 3, 4, 0, 0, 0, 0, 0, 0, 5, 0, 0, 0,\n",
       "       3, 4, 5, 5, 0, 3, 5, 0, 3, 0, 4, 0, 2, 0, 0, 0, 0, 3, 0, 3, 3, 0,\n",
       "       5, 4, 5, 5, 4, 4, 0, 0, 1, 0, 4, 4, 0, 0, 0, 0, 0, 4, 0, 0, 0, 0,\n",
       "       0, 5, 0, 0, 0, 0, 0, 0, 2, 2, 4, 3, 0, 4, 4, 5, 0, 5, 0, 3, 0, 0,\n",
       "       0, 3, 0, 4, 0, 2, 0, 0, 0, 4, 0, 0, 0, 5, 0, 0, 3, 3, 0, 3, 5, 4,\n",
       "       0, 0, 3, 0, 0, 0, 0, 0, 3, 3, 2, 0, 0, 5, 4, 0, 0, 0, 4, 0, 4, 2,\n",
       "       5, 4, 5, 0, 0, 0, 0, 5, 5, 0, 4, 0, 0, 0, 0, 0, 4, 0, 0, 0, 0, 0,\n",
       "       0, 3, 5, 0, 0, 0, 4, 0, 0, 0, 0, 0, 0, 3, 3, 0, 3, 0, 0, 0, 5, 2,\n",
       "       0, 0, 0, 4, 0, 0, 0, 0, 0, 0, 0, 3, 0, 0, 0, 0, 3, 0, 0, 4, 3, 5,\n",
       "       0, 0, 0, 0, 4, 0, 0, 0, 0, 3, 4, 0, 0, 0, 0, 0, 0, 0, 1, 2, 0, 0,\n",
       "       0, 0, 0, 5, 0, 0, 0, 4, 4, 0, 5, 0, 0, 0, 0, 0, 0, 4, 3, 3, 4, 0,\n",
       "       5, 0, 0, 0, 0, 4, 4, 4, 0, 0, 0, 0, 0, 0, 0, 0, 0, 0, 0, 3, 0, 0,\n",
       "       0, 0, 3, 5, 4, 2, 0, 0, 0, 1, 0, 0, 3, 0, 0, 4, 0, 0, 0, 4, 5, 0,\n",
       "       0, 0, 4, 5, 0, 2, 0, 0, 0, 0, 0, 0, 5, 4, 4, 0, 0, 0, 0, 4, 0, 0,\n",
       "       3, 5, 3, 0, 5, 5, 0, 0, 3, 0, 5, 0, 0, 0, 0, 0, 0, 0, 0, 0, 0, 0,\n",
       "       0, 0, 0, 0, 3, 4, 0, 3, 5, 0, 0, 0, 0, 0, 0, 4, 0, 0, 0, 0, 0, 5,\n",
       "       0, 0, 0, 0, 5, 2, 4, 0, 0, 3, 4, 2, 5, 5, 0, 4, 0, 0, 0, 0, 3, 3,\n",
       "       4, 0, 2, 5, 0, 0, 4, 3, 0, 5, 0, 4, 4, 5, 4, 4, 0, 0, 4, 0, 0, 4,\n",
       "       0, 4, 0, 0, 0, 0, 3, 3, 0, 0, 0, 3, 0, 0, 3, 3, 1, 3, 5, 4, 3, 0,\n",
       "       3, 0, 0, 5, 0, 4, 0, 3, 3, 5, 0, 0, 4, 0, 0, 0, 0, 5, 4, 0, 0, 3,\n",
       "       0, 5, 0, 0, 0, 1, 5, 0, 0, 0, 0, 0, 0, 0, 0, 2, 5, 4, 4, 0, 0, 4,\n",
       "       3, 0, 3, 1, 0, 0, 0, 4, 0, 0, 0, 5, 0, 3, 0, 0, 0, 0, 2, 4, 0, 0,\n",
       "       4, 5, 3, 0, 0, 5, 0, 0, 5, 5, 0, 0, 0, 4, 5, 0, 0, 0, 3, 4, 0, 0,\n",
       "       0, 0, 4, 0, 0, 0, 0, 0, 4, 4, 3, 4, 0, 4, 0, 0, 0, 3, 0, 1, 0, 0,\n",
       "       0, 4, 3, 0, 5, 0, 0, 4, 0, 0, 0, 5, 4, 4, 0, 0, 0, 0, 0, 0, 0, 4,\n",
       "       5, 3, 5, 4, 0, 0, 0, 0, 4, 0, 0, 0, 4, 4, 0, 0, 0, 0, 0, 0, 4, 4,\n",
       "       0, 0, 0, 0, 0, 0, 4, 5, 0, 0, 0, 0, 0, 4, 0, 0, 0, 0, 0, 3, 0, 0,\n",
       "       0, 0, 4, 0, 0, 0, 0, 5, 4, 0, 4, 0, 0, 0, 4, 5, 0, 0, 0, 0, 0, 2,\n",
       "       0, 0, 4, 3, 0, 0, 0, 0, 0, 4, 5])"
      ]
     },
     "execution_count": 18,
     "metadata": {},
     "output_type": "execute_result"
    }
   ],
   "source": [
    "ratings[0,:].astype(int)"
   ]
  },
  {
   "cell_type": "code",
   "execution_count": null,
   "metadata": {},
   "outputs": [],
   "source": []
  }
 ],
 "metadata": {
  "kernelspec": {
   "display_name": "Python 3",
   "language": "python",
   "name": "python3"
  },
  "language_info": {
   "codemirror_mode": {
    "name": "ipython",
    "version": 3
   },
   "file_extension": ".py",
   "mimetype": "text/x-python",
   "name": "python",
   "nbconvert_exporter": "python",
   "pygments_lexer": "ipython3",
   "version": "3.7.3"
  }
 },
 "nbformat": 4,
 "nbformat_minor": 2
}
